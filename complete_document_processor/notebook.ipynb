{
 "cells": [
  {
   "cell_type": "markdown",
   "metadata": {},
   "source": [
    "# Complete Document Processing System\n",
    "\n",
    "Self-contained document processing with LLM enhancement and PDF generation."
   ]
  },
  {
   "cell_type": "code",
   "execution_count": 3,
   "metadata": {},
   "outputs": [
    {
     "name": "stdout",
     "output_type": "stream",
     "text": [
      "Complete Document Processing System loaded\n",
      "MISTRAL_API_KEY: Set\n",
      "Current directory: /Users/shantanumisra/workspace/doc_poc/complete_document_processor\n",
      "All outputs will be generated in this directory\n"
     ]
    }
   ],
   "source": [
    "# Import the processor\n",
    "from modular_document_processor import main\n",
    "import os\n",
    "\n",
    "print(\"Complete Document Processing System loaded\")\n",
    "print(f\"MISTRAL_API_KEY: {'Set' if os.getenv('MISTRAL_API_KEY') else 'Not set'}\")\n",
    "print(f\"Current directory: {os.getcwd()}\")\n",
    "print(\"All outputs will be generated in this directory\")"
   ]
  },
  {
   "cell_type": "markdown",
   "metadata": {},
   "source": [
    "## 1. Single Document Processing (LLM Reformatting)"
   ]
  },
  {
   "cell_type": "code",
   "execution_count": 4,
   "metadata": {},
   "outputs": [
    {
     "name": "stdout",
     "output_type": "stream",
     "text": [
      "Processing: bitcoin_whitepaper.tex\n",
      "Template: bitcoin_paper\n",
      "This will make LLM API calls and generate both .tex and .pdf files...\n",
      "Loading LaTeX file...\n",
      "Extracting and chunking content...\n",
      "Assigning chunks to document skeleton...\n",
      "Processing sections with LLM...\n",
      "  Processing: Abstract\n",
      "  Processing: 1. Introduction\n",
      "  Processing: 2. Transactions\n",
      "  Processing: 3. Timestamp Server\n",
      "  Processing: 4. Proof-of-Work\n",
      "  Processing: 5. Network\n",
      "  Processing: 6. Incentive\n",
      "  Processing: 7. Reclaiming Disk Space\n",
      "  Processing: 8. Simplified Payment Verification\n",
      "  Processing: 9. Combining and Splitting Value\n",
      "  Processing: 10. Privacy\n",
      "  Processing: 11. Calculations\n",
      "  Processing: 12. Conclusion\n",
      "Aggregating final document...\n",
      "PDF compilation failed: \n",
      "\n",
      "Processing complete!\n",
      "Final document: ./final_document_20250729_222549.tex\n",
      "Processing log: ./processing_log_20250729_222549.txt\n",
      "\n",
      "Processing completed!\n",
      "LaTeX document: ./final_document_20250729_222549.tex\n",
      "PDF generation failed (pdflatex not available)\n",
      "Sections processed: 13\n",
      "LLM calls made: 13\n",
      "Quality score: 95.0/100\n"
     ]
    }
   ],
   "source": [
    "# Configuration\n",
    "source_file = 'bitcoin_whitepaper.tex'\n",
    "template = 'bitcoin_paper'  # 'bitcoin_paper' or 'academic_paper'\n",
    "\n",
    "print(f\"Processing: {source_file}\")\n",
    "print(f\"Template: {template}\")\n",
    "print(\"This will make LLM API calls and generate both .tex and .pdf files...\")\n",
    "\n",
    "# Process document\n",
    "result = main(\n",
    "    source=source_file,\n",
    "    template=template\n",
    ")\n",
    "\n",
    "print(f\"\\nProcessing completed!\")\n",
    "print(f\"LaTeX document: {result['final_document']}\")\n",
    "if result['pdf_document']:\n",
    "    print(f\"PDF document: {result['pdf_document']}\")\n",
    "else:\n",
    "    print(\"PDF generation failed (pdflatex not available)\")\n",
    "print(f\"Sections processed: {result['processed_sections']}\")\n",
    "print(f\"LLM calls made: {result['analysis']['llm_calls']}\")\n",
    "print(f\"Quality score: {result['analysis']['quality_score']:.1f}/100\")\n",
    "\n",
    "# Store for next cell\n",
    "single_result = result"
   ]
  },
  {
   "cell_type": "markdown",
   "metadata": {},
   "source": [
    "## 2. Document Augmentation (Combination)"
   ]
  },
  {
   "cell_type": "code",
   "execution_count": 5,
   "metadata": {},
   "outputs": [
    {
     "name": "stdout",
     "output_type": "stream",
     "text": [
      "Combining documents:\n",
      "  Base: ./final_document_20250729_222549.tex\n",
      "  Additional: blockchain_security.tex\n",
      "  Strategy: smart_merge\n",
      "Combining documents: ./final_document_20250729_222549.tex + blockchain_security.tex\n",
      "PDF compiled successfully: ./combined_document_20250729_222642.pdf\n",
      "Combined document saved: ./combined_document_20250729_222642.tex\n",
      "PDF generated: ./combined_document_20250729_222642.pdf\n",
      "\n",
      "Augmentation completed!\n",
      "LaTeX document: ./combined_document_20250729_222642.tex\n",
      "PDF document: ./combined_document_20250729_222642.pdf\n",
      "Quality score: 85.0/100\n"
     ]
    }
   ],
   "source": [
    "# Configuration for document combination\n",
    "base_document = single_result['final_document'] if 'single_result' in locals() else 'bitcoin_whitepaper.tex'\n",
    "additional_document = 'blockchain_security.tex'\n",
    "combine_strategy = 'smart_merge'  # 'smart_merge' or 'simple_append'\n",
    "\n",
    "print(f\"Combining documents:\")\n",
    "print(f\"  Base: {base_document}\")\n",
    "print(f\"  Additional: {additional_document}\")\n",
    "print(f\"  Strategy: {combine_strategy}\")\n",
    "\n",
    "# Combine documents\n",
    "augment_result = main(\n",
    "    source=base_document,\n",
    "    source2=additional_document,\n",
    "    combine_strategy=combine_strategy\n",
    ")\n",
    "\n",
    "print(f\"\\nAugmentation completed!\")\n",
    "print(f\"LaTeX document: {augment_result['final_document']}\")\n",
    "if augment_result['pdf_document']:\n",
    "    print(f\"PDF document: {augment_result['pdf_document']}\")\n",
    "print(f\"Quality score: {augment_result['analysis']['quality_score']:.1f}/100\")"
   ]
  },
  {
   "cell_type": "markdown",
   "metadata": {},
   "source": [
    "## 3. View Generated Files"
   ]
  },
  {
   "cell_type": "code",
   "execution_count": 6,
   "metadata": {},
   "outputs": [
    {
     "name": "stdout",
     "output_type": "stream",
     "text": [
      "Generated Files in Current Directory:\n",
      "==================================================\n",
      "LaTeX files (5):\n",
      "  bitcoin_whitepaper.tex: 19,531 bytes (modified: 18:02:13)\n",
      "  blockchain_security.tex: 6,063 bytes (modified: 18:02:13)\n",
      "  combined_document_20250729_222642.tex: 6,090 bytes (modified: 22:26:42)\n",
      "  final_document_20250729_193940.tex: 30,714 bytes (modified: 19:40:30)\n",
      "  final_document_20250729_222549.tex: 21,909 bytes (modified: 22:26:28)\n",
      "\n",
      "PDF files (3):\n",
      "  combined_document_20250729_222642.pdf: 139,025 bytes (modified: 22:26:43)\n",
      "  final_document_20250729_193940.pdf: 189,869 bytes (modified: 19:40:32)\n",
      "  final_document_20250729_222549.pdf: 183,405 bytes (modified: 22:26:31)\n",
      "\n",
      "Log files (3):\n",
      "  processing_log_20250729_193940.txt: 654 bytes (modified: 19:40:32)\n",
      "  processing_log_20250729_222549.txt: 654 bytes (modified: 22:26:31)\n",
      "  requirements.txt: 83 bytes (modified: 18:04:07)\n"
     ]
    }
   ],
   "source": [
    "# List all generated files in current directory\n",
    "import glob\n",
    "from datetime import datetime\n",
    "\n",
    "print(\"Generated Files in Current Directory:\")\n",
    "print(\"=\" * 50)\n",
    "\n",
    "# Get all .tex and .pdf files\n",
    "tex_files = glob.glob(\"*.tex\")\n",
    "pdf_files = glob.glob(\"*.pdf\")\n",
    "log_files = glob.glob(\"*.txt\")\n",
    "\n",
    "print(f\"LaTeX files ({len(tex_files)}):\")\n",
    "for file in sorted(tex_files):\n",
    "    size = os.path.getsize(file)\n",
    "    mtime = datetime.fromtimestamp(os.path.getmtime(file))\n",
    "    print(f\"  {file}: {size:,} bytes (modified: {mtime.strftime('%H:%M:%S')})\")\n",
    "\n",
    "print(f\"\\nPDF files ({len(pdf_files)}):\")\n",
    "for file in sorted(pdf_files):\n",
    "    size = os.path.getsize(file)\n",
    "    mtime = datetime.fromtimestamp(os.path.getmtime(file))\n",
    "    print(f\"  {file}: {size:,} bytes (modified: {mtime.strftime('%H:%M:%S')})\")\n",
    "\n",
    "print(f\"\\nLog files ({len(log_files)}):\")\n",
    "for file in sorted(log_files):\n",
    "    size = os.path.getsize(file)\n",
    "    mtime = datetime.fromtimestamp(os.path.getmtime(file))\n",
    "    print(f\"  {file}: {size:,} bytes (modified: {mtime.strftime('%H:%M:%S')})\")"
   ]
  },
  {
   "cell_type": "markdown",
   "metadata": {},
   "source": [
    "## 4. Configuration and Setup"
   ]
  },
  {
   "cell_type": "code",
   "execution_count": 7,
   "metadata": {},
   "outputs": [
    {
     "name": "stdout",
     "output_type": "stream",
     "text": [
      "System Configuration\n",
      "==================================================\n",
      "Current Configuration:\n",
      "  LLM Provider: mistral\n",
      "  Model: open-mistral-7b\n",
      "  Temperature: 0.2\n",
      "  Max tokens: 2048\n",
      "  Generate PDF: True\n",
      "\n",
      "Environment:\n",
      "  MISTRAL_API_KEY: ✓ Set\n",
      "  OPENAI_API_KEY: ✓ Set\n",
      "  HUGGING_FACE_TOKEN: ✗ Not set\n",
      "  pdflatex: ✓ Available\n",
      "\n",
      "Available Templates:\n",
      "  - bitcoin_paper: Bitcoin whitepaper structure (12 sections)\n",
      "  - academic_paper: Standard academic format (6 sections)\n",
      "\n",
      "Combination Strategies:\n",
      "  - smart_merge: Intelligently merge matching sections\n",
      "  - simple_append: Append all sections from second document\n"
     ]
    }
   ],
   "source": [
    "print(\"System Configuration\")\n",
    "print(\"=\" * 50)\n",
    "\n",
    "# Check configuration\n",
    "try:\n",
    "    import yaml\n",
    "    with open('config.yaml', 'r') as f:\n",
    "        config = yaml.safe_load(f)\n",
    "    \n",
    "    print(\"Current Configuration:\")\n",
    "    print(f\"  LLM Provider: {config['llm']['provider']}\")\n",
    "    print(f\"  Model: {config['llm']['model']}\")\n",
    "    print(f\"  Temperature: {config['llm']['temperature']}\")\n",
    "    print(f\"  Max tokens: {config['llm']['max_tokens']}\")\n",
    "    print(f\"  Generate PDF: {config['output']['generate_pdf']}\")\n",
    "except:\n",
    "    print(\"Using default configuration\")\n",
    "\n",
    "# Check environment\n",
    "print(f\"\\nEnvironment:\")\n",
    "print(f\"  MISTRAL_API_KEY: {'✓ Set' if os.getenv('MISTRAL_API_KEY') else '✗ Not set'}\")\n",
    "print(f\"  OPENAI_API_KEY: {'✓ Set' if os.getenv('OPENAI_API_KEY') else '✗ Not set'}\")\n",
    "print(f\"  HUGGING_FACE_TOKEN: {'✓ Set' if os.getenv('HUGGING_FACE_TOKEN') else '✗ Not set'}\")\n",
    "\n",
    "# Check LaTeX installation\n",
    "import subprocess\n",
    "try:\n",
    "    result = subprocess.run(['pdflatex', '--version'], capture_output=True, text=True)\n",
    "    if result.returncode == 0:\n",
    "        print(f\"  pdflatex: ✓ Available\")\n",
    "    else:\n",
    "        print(f\"  pdflatex: ✗ Not available\")\n",
    "except:\n",
    "    print(f\"  pdflatex: ✗ Not available\")\n",
    "\n",
    "print(f\"\\nAvailable Templates:\")\n",
    "print(f\"  - bitcoin_paper: Bitcoin whitepaper structure (12 sections)\")\n",
    "print(f\"  - academic_paper: Standard academic format (6 sections)\")\n",
    "\n",
    "print(f\"\\nCombination Strategies:\")\n",
    "print(f\"  - smart_merge: Intelligently merge matching sections\")\n",
    "print(f\"  - simple_append: Append all sections from second document\")"
   ]
  },
  {
   "cell_type": "code",
   "execution_count": null,
   "metadata": {},
   "outputs": [],
   "source": []
  }
 ],
 "metadata": {
  "kernelspec": {
   "display_name": ".venv",
   "language": "python",
   "name": "python3"
  },
  "language_info": {
   "codemirror_mode": {
    "name": "ipython",
    "version": 3
   },
   "file_extension": ".py",
   "mimetype": "text/x-python",
   "name": "python",
   "nbconvert_exporter": "python",
   "pygments_lexer": "ipython3",
   "version": "3.12.11"
  }
 },
 "nbformat": 4,
 "nbformat_minor": 4
}
