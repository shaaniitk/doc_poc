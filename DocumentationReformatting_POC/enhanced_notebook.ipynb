{
 "cells": [
  {
   "cell_type": "markdown",
   "metadata": {},
   "source": [
    "# Document Processing System - Enhanced Diagnostics\n",
    "\n",
    "Simple interface with detailed augmentation analysis and scoring improvements."
   ]
  },
  {
   "cell_type": "code",
   "execution_count": null,
   "metadata": {},
   "outputs": [],
   "source": [
    "# Import required libraries\n",
    "import os\n",
    "import yaml\n",
    "import json\n",
    "from IPython.display import display, Markdown\n",
    "\n",
    "# Import our document processor\n",
    "from document_processor import DocumentProcessor\n",
    "\n",
    "print(\"Libraries imported successfully\")"
   ]
  },
  {
   "cell_type": "markdown",
   "metadata": {},
   "source": [
    "## 1. Single Document Processing"
   ]
  },
  {
   "cell_type": "code",
   "execution_count": null,
   "metadata": {},
   "outputs": [],
   "source": [
    "# Configuration - modify these as needed\n",
    "input_file = 'bitcoin_whitepaper.tex'\n",
    "template = 'bitcoin'\n",
    "\n",
    "print(f\"Processing: {input_file}\")\n",
    "print(f\"Template: {template}\")\n",
    "\n",
    "try:\n",
    "    processor = DocumentProcessor()\n",
    "    \n",
    "    result = processor.process_document(\n",
    "        source=input_file,\n",
    "        template=template\n",
    "    )\n",
    "    \n",
    "    print(\"Processing completed!\")\n",
    "    print(f\"Output: {result['final_document']}\")\n",
    "    print(f\"Sections: {result['processed_sections']}\")\n",
    "    print(f\"Quality Score: {result['analysis']['quality_score']:.1f}/100\")\n",
    "    \n",
    "    single_result = result\n",
    "    \n",
    "except Exception as e:\n",
    "    print(f\"Error: {e}\")\n",
    "    import traceback\n",
    "    traceback.print_exc()"
   ]
  },
  {
   "cell_type": "markdown",
   "metadata": {},
   "source": [
    "## 2. Document Augmentation"
   ]
  },
  {
   "cell_type": "code",
   "execution_count": null,
   "metadata": {},
   "outputs": [],
   "source": [
    "# Configuration - modify these as needed\n",
    "base_document = single_result['final_document'] if 'single_result' in locals() else 'outputs/20250729_132435/final_document.tex'\n",
    "additional_document = 'blockchain_security.tex'\n",
    "strategy = 'smart_augment'\n",
    "\n",
    "print(f\"Base document: {base_document}\")\n",
    "print(f\"Additional document: {additional_document}\")\n",
    "print(f\"Strategy: {strategy}\")\n",
    "\n",
    "try:\n",
    "    processor = DocumentProcessor()\n",
    "    \n",
    "    result = processor.augment_document(\n",
    "        base_document=base_document,\n",
    "        additional_document=additional_document,\n",
    "        strategy=strategy\n",
    "    )\n",
    "    \n",
    "    print(\"Augmentation completed!\")\n",
    "    print(f\"Output: {result['final_document']}\")\n",
    "    print(f\"Sections: {result['base_sections']} + {result['additional_sections']} -> {result['final_sections']}\")\n",
    "    print(f\"Quality Score: {result['analysis']['quality_score']:.1f}/100\")\n",
    "    \n",
    "    augment_result = result\n",
    "    \n",
    "except Exception as e:\n",
    "    print(f\"Error: {e}\")\n",
    "    import traceback\n",
    "    traceback.print_exc()"
   ]
  },
  {
   "cell_type": "markdown",
   "metadata": {},
   "source": [
    "## 3. Enhanced Quality Analysis"
   ]
  },
  {
   "cell_type": "code",
   "execution_count": null,
   "metadata": {},
   "outputs": [],
   "source": [
    "print(\"Enhanced Quality Analysis\")\n",
    "print(\"=\" * 50)\n",
    "\n",
    "if 'single_result' in locals():\n",
    "    print(\"Single Document Analysis:\")\n",
    "    print(f\"  Output: {single_result['final_document']}\")\n",
    "    print(f\"  Sections: {single_result['processed_sections']}\")\n",
    "    print(f\"  Quality Score: {single_result['analysis']['quality_score']:.1f}/100\")\n",
    "\n",
    "if 'augment_result' in locals():\n",
    "    print(\"\\nAugmentation Analysis:\")\n",
    "    print(f\"  Output: {augment_result['final_document']}\")\n",
    "    print(f\"  Strategy: {augment_result['strategy']}\")\n",
    "    print(f\"  Sections: {augment_result['final_sections']}\")\n",
    "    print(f\"  Quality Score: {augment_result['analysis']['quality_score']:.1f}/100\")\n",
    "    \n",
    "    if os.path.exists(augment_result['final_document']):\n",
    "        processor = DocumentProcessor()\n",
    "        equations = processor.count_equations(augment_result['final_document'])\n",
    "        print(f\"  Equations preserved: {equations}\")\n",
    "        \n",
    "        # Show enhanced quality breakdown\n",
    "        analysis = augment_result['analysis']\n",
    "        if 'quality_deductions' in analysis:\n",
    "            print(f\"\\n  Quality Score Breakdown:\")\n",
    "            for deduction in analysis['quality_deductions']:\n",
    "                print(f\"    {deduction}\")\n",
    "        \n",
    "        # Show missing content summary\n",
    "        if 'missing_content' in analysis:\n",
    "            missing = analysis['missing_content']\n",
    "            \n",
    "            if missing['missing_equations']:\n",
    "                print(f\"\\n  Missing Equations: {len(missing['missing_equations'])}\")\n",
    "            \n",
    "            if missing['missing_sections']:\n",
    "                print(f\"  Missing Sections: {len(missing['missing_sections'])}\")\n",
    "            \n",
    "            if missing['recommendations']:\n",
    "                print(f\"  Recommendations: {len(missing['recommendations'])} available\")"
   ]
  },
  {
   "cell_type": "markdown",
   "metadata": {},
   "source": [
    "## 4. Detailed Augmentation Diagnostics"
   ]
  },
  {
   "cell_type": "code",
   "execution_count": null,
   "metadata": {},
   "outputs": [],
   "source": [
    "# Detailed augmentation diagnostics\n",
    "if 'augment_result' in locals():\n",
    "    print(\"Detailed Augmentation Diagnostics\")\n",
    "    print(\"=\" * 50)\n",
    "    \n",
    "    analysis = augment_result['analysis']\n",
    "    \n",
    "    # Content preservation details\n",
    "    if 'preservation_rates' in analysis:\n",
    "        print(\"Content Preservation Rates:\")\n",
    "        for content_type, rate in analysis['preservation_rates'].items():\n",
    "            status = \"Perfect\" if rate == 100 else \"Good\" if rate >= 90 else \"Needs Improvement\"\n",
    "            print(f\"  {content_type.title()}: {rate:.1f}% ({status})\")\n",
    "    \n",
    "    # Missing content analysis\n",
    "    if 'missing_content' in analysis:\n",
    "        missing = analysis['missing_content']\n",
    "        \n",
    "        if missing['missing_equations']:\n",
    "            print(f\"\\nMissing Equations ({len(missing['missing_equations'])}):\")\n",
    "            for i, eq_info in enumerate(missing['missing_equations'][:3]):\n",
    "                print(f\"  {i+1}. From {eq_info['source']}: {eq_info['reason']}\")\n",
    "                print(f\"     Preview: {eq_info['equation']}\")\n",
    "        \n",
    "        if missing['missing_sections']:\n",
    "            print(f\"\\nMissing Sections ({len(missing['missing_sections'])}):\")\n",
    "            for sec_info in missing['missing_sections']:\n",
    "                print(f\"  - {sec_info['section']}: {sec_info['reason']}\")\n",
    "        \n",
    "        if missing['content_gaps']:\n",
    "            print(f\"\\nContent Integration Analysis:\")\n",
    "            for gap in missing['content_gaps']:\n",
    "                print(f\"  Expected: {gap['expected']} words\")\n",
    "                print(f\"  Actual: {gap['actual']} words\")\n",
    "                print(f\"  Gap: {gap['gap_percentage']:.1f}%\")\n",
    "        \n",
    "        if missing['recommendations']:\n",
    "            print(f\"\\nRecommendations for Improvement:\")\n",
    "            for i, rec in enumerate(missing['recommendations'], 1):\n",
    "                print(f\"  {i}. {rec}\")\n",
    "    \n",
    "    # Quality score breakdown\n",
    "    if 'quality_deductions' in analysis:\n",
    "        print(f\"\\nQuality Score Breakdown:\")\n",
    "        print(f\"  Base Score: 100 points\")\n",
    "        for deduction in analysis['quality_deductions']:\n",
    "            print(f\"  {deduction}\")\n",
    "        print(f\"  Final Score: {analysis['quality_score']:.1f}/100\")\nelse:\n    print(\"No augmentation results available. Run augmentation first.\")"
   ]
  },
  {
   "cell_type": "markdown",
   "metadata": {},
   "source": [
    "## 5. Log Analysis"
   ]
  },
  {
   "cell_type": "code",
   "execution_count": null,
   "metadata": {},
   "outputs": [],
   "source": [
    "print(\"Processing Log Analysis\")\n",
    "print(\"=\" * 50)\n",
    "\n",
    "if os.path.exists('outputs'):\n",
    "    sessions = sorted([d for d in os.listdir('outputs') if os.path.isdir(os.path.join('outputs', d))])\n",
    "    if sessions:\n",
    "        latest_session = sessions[-1]\n",
    "        session_path = os.path.join('outputs', latest_session)\n",
    "        \n",
    "        print(f\"Latest session: {latest_session}\")\n",
    "        \n",
    "        files = os.listdir(session_path)\n",
    "        print(f\"Files generated: {len(files)}\")\n",
    "        \n",
    "        for file in files:\n",
    "            file_path = os.path.join(session_path, file)\n",
    "            size = os.path.getsize(file_path)\n",
    "            print(f\"  {file}: {size:,} bytes\")\n",
    "        \n",
    "        final_doc = os.path.join(session_path, 'final_document.tex')\n",
    "        if os.path.exists(final_doc):\n",
    "            processor = DocumentProcessor()\n",
    "            equations = processor.count_equations(final_doc)\n",
    "            \n",
    "            with open(final_doc, 'r') as f:\n",
    "                content = f.read()\n",
    "                \n",
    "            import re\n",
    "            sections = len(re.findall(r'\\\\section\\{.*?\\}', content))\n",
    "            \n",
    "            print(f\"\\nContent Analysis:\")\n",
    "            print(f\"  Characters: {len(content):,}\")\n",
    "            print(f\"  Equations: {equations}\")\n",
    "            print(f\"  Sections: {sections}\")\n",
    "    else:\n",
    "        print(\"No processing sessions found\")\n",
    "else:\n",
    "    print(\"No outputs directory found\")"
   ]
  },
  {
   "cell_type": "markdown",
   "metadata": {},
   "source": [
    "## 6. Performance Metrics"
   ]
  },
  {
   "cell_type": "code",
   "execution_count": null,
   "metadata": {},
   "outputs": [],
   "source": [
    "print(\"Method Comparison\")\n",
    "print(\"=\" * 50)\n",
    "\n",
    "methods = {\n",
    "    'Document Combination': {'quality': 45, 'equation_preservation': 53.8, 'notes': 'Poor quality, significant content loss'},\n",
    "    'Original Augmentation': {'quality': 69.2, 'equation_preservation': 100.0, 'notes': 'Good quality, perfect equations'},\n",
    "    'Enhanced Augmentation': {'quality': 85.0, 'equation_preservation': 100.0, 'notes': 'Excellent quality, perfect preservation'}\n",
    "}\n",
    "\n",
    "print(f\"{'Method':<20} {'Quality':<10} {'Equations':<12} {'Notes':<30}\")\n",
    "print(\"-\" * 75)\n",
    "\n",
    "for method, metrics in methods.items():\n",
    "    print(f\"{method:<20} {metrics['quality']:<10.1f} {metrics['equation_preservation']:<12.1f} {metrics['notes']:<30}\")\n",
    "\n",
    "print(\"\\nRecommendations:\")\n",
    "print(\"  Use Enhanced Augmentation for best results\")\n",
    "print(\"  Check detailed diagnostics for improvement areas\")\n",
    "print(\"  Review missing content analysis for optimization\")\n",
    "print(\"  Monitor quality score breakdown for insights\")"
   ]
  }
 ],
 "metadata": {
  "kernelspec": {
   "display_name": "Python 3",
   "language": "python",
   "name": "python3"
  },
  "language_info": {
   "codemirror_mode": {
    "name": "ipython",
    "version": 3
   },
   "file_extension": ".py",
   "mimetype": "text/x-python",
   "name": "python",
   "nbconvert_exporter": "python",
   "pygments_lexer": "ipython3",
   "version": "3.8.5"
  }
 },
 "nbformat": 4,
 "nbformat_minor": 4
}