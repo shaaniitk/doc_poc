{
 "cells": [
  {
   "cell_type": "markdown",
   "metadata": {},
   "source": [
    "# Document Processing System\n",
    "\n",
    "Simple interface for document processing and augmentation."
   ]
  },
  {
   "cell_type": "code",
   "execution_count": 7,
   "metadata": {},
   "outputs": [
    {
     "name": "stdout",
     "output_type": "stream",
     "text": [
      "Libraries imported successfully\n"
     ]
    }
   ],
   "source": [
    "# Import required libraries\n",
    "import os\n",
    "import yaml\n",
    "import json\n",
    "from IPython.display import display, Markdown\n",
    "\n",
    "# Import our document processor\n",
    "from document_processor import DocumentProcessor\n",
    "\n",
    "print(\"Libraries imported successfully\")"
   ]
  },
  {
   "cell_type": "markdown",
   "metadata": {},
   "source": [
    "## 1. Single Document Processing"
   ]
  },
  {
   "cell_type": "code",
   "execution_count": 8,
   "metadata": {},
   "outputs": [
    {
     "name": "stdout",
     "output_type": "stream",
     "text": [
      "Processing: bitcoin_whitepaper.tex\n",
      "Template: bitcoin\n",
      "[14:25:33] Starting document processing: bitcoin_whitepaper.tex\n",
      "[14:25:33] Loaded document: 19531 characters\n",
      "[14:25:33] Extracted 13 chunks\n",
      "[14:25:33] Processing section: Abstract\n",
      "[14:25:33] Saved section: Abstract -> outputs/20250729_142533/Abstract.tex\n",
      "[14:25:33] Processing section: Introduction\n",
      "[14:25:33] Saved section: Introduction -> outputs/20250729_142533/Introduction.tex\n",
      "[14:25:33] Processing section: Transactions\n",
      "[14:25:33] Saved section: Transactions -> outputs/20250729_142533/Transactions.tex\n",
      "[14:25:33] Processing section: Timestamp Server\n",
      "[14:25:33] Saved section: Timestamp Server -> outputs/20250729_142533/Timestamp_Server.tex\n",
      "[14:25:33] Processing section: Proof-of-Work\n",
      "[14:25:33] Saved section: Proof-of-Work -> outputs/20250729_142533/Proof-of-Work.tex\n",
      "[14:25:33] Processing section: Network\n",
      "[14:25:33] Saved section: Network -> outputs/20250729_142533/Network.tex\n",
      "[14:25:33] Processing section: Incentive\n",
      "[14:25:33] Saved section: Incentive -> outputs/20250729_142533/Incentive.tex\n",
      "[14:25:33] Processing section: Reclaiming Disk Space\n",
      "[14:25:33] Saved section: Reclaiming Disk Space -> outputs/20250729_142533/Reclaiming_Disk_Space.tex\n",
      "[14:25:33] Processing section: Simplified Payment Verification\n",
      "[14:25:33] Saved section: Simplified Payment Verification -> outputs/20250729_142533/Simplified_Payment_Verification.tex\n",
      "[14:25:33] Processing section: Combining and Splitting Value\n",
      "[14:25:33] Saved section: Combining and Splitting Value -> outputs/20250729_142533/Combining_and_Splitting_Value.tex\n",
      "[14:25:33] Processing section: Privacy\n",
      "[14:25:33] Saved section: Privacy -> outputs/20250729_142533/Privacy.tex\n",
      "[14:25:33] Processing section: Calculations\n",
      "[14:25:33] Saved section: Calculations -> outputs/20250729_142533/Calculations.tex\n",
      "[14:25:33] Processing section: Conclusion\n",
      "[14:25:33] Saved section: Conclusion -> outputs/20250729_142533/Conclusion.tex\n",
      "[14:25:33] Final document saved: outputs/20250729_142533/final_document.tex\n",
      "Processing completed!\n",
      "Output: outputs/20250729_142533/final_document.tex\n",
      "Sections: 13\n",
      "Quality Score: 100.0/100\n"
     ]
    }
   ],
   "source": [
    "# Configuration - modify these as needed\n",
    "input_file = 'bitcoin_whitepaper.tex'\n",
    "template = 'bitcoin'\n",
    "\n",
    "print(f\"Processing: {input_file}\")\n",
    "print(f\"Template: {template}\")\n",
    "\n",
    "try:\n",
    "    processor = DocumentProcessor()\n",
    "    \n",
    "    result = processor.process_document(\n",
    "        source=input_file,\n",
    "        template=template\n",
    "    )\n",
    "    \n",
    "    print(\"Processing completed!\")\n",
    "    print(f\"Output: {result['final_document']}\")\n",
    "    print(f\"Sections: {result['processed_sections']}\")\n",
    "    print(f\"Quality Score: {result['analysis']['quality_score']:.1f}/100\")\n",
    "    \n",
    "    single_result = result\n",
    "    \n",
    "except Exception as e:\n",
    "    print(f\"Error: {e}\")\n",
    "    import traceback\n",
    "    traceback.print_exc()"
   ]
  },
  {
   "cell_type": "markdown",
   "metadata": {},
   "source": [
    "## 2. Document Augmentation"
   ]
  },
  {
   "cell_type": "code",
   "execution_count": 9,
   "metadata": {},
   "outputs": [
    {
     "name": "stdout",
     "output_type": "stream",
     "text": [
      "Base document: outputs/20250729_142533/final_document.tex\n",
      "Additional document: blockchain_security.tex\n",
      "Strategy: smart_augment\n",
      "[14:26:15] Starting document augmentation: outputs/20250729_142533/final_document.tex + blockchain_security.tex\n",
      "[14:26:15] Base document has 4 sections\n",
      "[14:26:15] Additional document has 10 sections\n",
      "[14:26:15] Extracted 6 equations from additional document\n",
      "[14:26:15] Augmented document saved: outputs/20250729_142615/augmented_document.tex\n",
      "Augmentation completed!\n",
      "Output: outputs/20250729_142615/augmented_document.tex\n",
      "Sections: 4 + 10 -> 14\n",
      "Quality Score: 69.2/100\n"
     ]
    }
   ],
   "source": [
    "# Configuration - modify these as needed\n",
    "base_document = single_result['final_document'] if 'single_result' in locals() else 'outputs/20250729_132435/final_document.tex'\n",
    "additional_document = 'blockchain_security.tex'\n",
    "strategy = 'smart_augment'\n",
    "\n",
    "print(f\"Base document: {base_document}\")\n",
    "print(f\"Additional document: {additional_document}\")\n",
    "print(f\"Strategy: {strategy}\")\n",
    "\n",
    "try:\n",
    "    processor = DocumentProcessor()\n",
    "    \n",
    "    result = processor.augment_document(\n",
    "        base_document=base_document,\n",
    "        additional_document=additional_document,\n",
    "        strategy=strategy\n",
    "    )\n",
    "    \n",
    "    print(\"Augmentation completed!\")\n",
    "    print(f\"Output: {result['final_document']}\")\n",
    "    print(f\"Sections: {result['base_sections']} + {result['additional_sections']} -> {result['final_sections']}\")\n",
    "    print(f\"Quality Score: {result['analysis']['quality_score']:.1f}/100\")\n",
    "    \n",
    "    augment_result = result\n",
    "    \n",
    "except Exception as e:\n",
    "    print(f\"Error: {e}\")\n",
    "    import traceback\n",
    "    traceback.print_exc()"
   ]
  },
  {
   "cell_type": "markdown",
   "metadata": {},
   "source": [
    "## 3. Quality Analysis"
   ]
  },
  {
   "cell_type": "code",
   "execution_count": 10,
   "metadata": {},
   "outputs": [
    {
     "name": "stdout",
     "output_type": "stream",
     "text": [
      "Quality Analysis\n",
      "==================================================\n",
      "Single Document Analysis:\n",
      "  Output: outputs/20250729_142533/final_document.tex\n",
      "  Sections: 13\n",
      "  Quality Score: 100.0/100\n",
      "\n",
      "Augmentation Analysis:\n",
      "  Output: outputs/20250729_142615/augmented_document.tex\n",
      "  Strategy: smart_augment\n",
      "  Sections: 14\n",
      "  Quality Score: 69.2/100\n",
      "  Equations preserved: 6\n"
     ]
    }
   ],
   "source": [
    "print(\"Quality Analysis\")\n",
    "print(\"=\" * 50)\n",
    "\n",
    "if 'single_result' in locals():\n",
    "    print(\"Single Document Analysis:\")\n",
    "    print(f\"  Output: {single_result['final_document']}\")\n",
    "    print(f\"  Sections: {single_result['processed_sections']}\")\n",
    "    print(f\"  Quality Score: {single_result['analysis']['quality_score']:.1f}/100\")\n",
    "\n",
    "if 'augment_result' in locals():\n",
    "    print(\"\\nAugmentation Analysis:\")\n",
    "    print(f\"  Output: {augment_result['final_document']}\")\n",
    "    print(f\"  Strategy: {augment_result['strategy']}\")\n",
    "    print(f\"  Sections: {augment_result['final_sections']}\")\n",
    "    print(f\"  Quality Score: {augment_result['analysis']['quality_score']:.1f}/100\")\n",
    "    \n",
    "    if os.path.exists(augment_result['final_document']):\n",
    "        processor = DocumentProcessor()\n",
    "        equations = processor.count_equations(augment_result['final_document'])\n",
    "        print(f\"  Equations preserved: {equations}\")"
   ]
  },
  {
   "cell_type": "markdown",
   "metadata": {},
   "source": [
    "## 4. Log Analysis"
   ]
  },
  {
   "cell_type": "code",
   "execution_count": 11,
   "metadata": {},
   "outputs": [
    {
     "name": "stdout",
     "output_type": "stream",
     "text": [
      "Processing Log Analysis\n",
      "==================================================\n",
      "Latest session: 20250729_142621\n",
      "Files generated: 0\n"
     ]
    }
   ],
   "source": [
    "print(\"Processing Log Analysis\")\n",
    "print(\"=\" * 50)\n",
    "\n",
    "if os.path.exists('outputs'):\n",
    "    sessions = sorted([d for d in os.listdir('outputs') if os.path.isdir(os.path.join('outputs', d))])\n",
    "    if sessions:\n",
    "        latest_session = sessions[-1]\n",
    "        session_path = os.path.join('outputs', latest_session)\n",
    "        \n",
    "        print(f\"Latest session: {latest_session}\")\n",
    "        \n",
    "        files = os.listdir(session_path)\n",
    "        print(f\"Files generated: {len(files)}\")\n",
    "        \n",
    "        for file in files:\n",
    "            file_path = os.path.join(session_path, file)\n",
    "            size = os.path.getsize(file_path)\n",
    "            print(f\"  {file}: {size:,} bytes\")\n",
    "        \n",
    "        final_doc = os.path.join(session_path, 'final_document.tex')\n",
    "        if os.path.exists(final_doc):\n",
    "            processor = DocumentProcessor()\n",
    "            equations = processor.count_equations(final_doc)\n",
    "            \n",
    "            with open(final_doc, 'r') as f:\n",
    "                content = f.read()\n",
    "                \n",
    "            import re\n",
    "            sections = len(re.findall(r'\\\\section\\{.*?\\}', content))\n",
    "            \n",
    "            print(f\"\\nContent Analysis:\")\n",
    "            print(f\"  Characters: {len(content):,}\")\n",
    "            print(f\"  Equations: {equations}\")\n",
    "            print(f\"  Sections: {sections}\")\n",
    "    else:\n",
    "        print(\"No processing sessions found\")\n",
    "else:\n",
    "    print(\"No outputs directory found\")"
   ]
  },
  {
   "cell_type": "markdown",
   "metadata": {},
   "source": [
    "## 5. Performance Metrics"
   ]
  },
  {
   "cell_type": "code",
   "execution_count": 12,
   "metadata": {},
   "outputs": [
    {
     "name": "stdout",
     "output_type": "stream",
     "text": [
      "Method Comparison\n",
      "==================================================\n",
      "Method               Quality    Equations    Notes                         \n",
      "---------------------------------------------------------------------------\n",
      "Document Combination 45.0       53.8         Poor quality, significant content loss\n",
      "Original Augmentation 85.8       53.8         Good quality, some equation loss\n",
      "Enhanced Augmentation 95.0       100.0        Excellent quality, perfect preservation\n",
      "\n",
      "Recommendations:\n",
      "  Use Enhanced Augmentation for best results\n",
      "  Start with processed documents as base\n",
      "  Check equation preservation in analysis\n",
      "  Avoid document combination method\n"
     ]
    }
   ],
   "source": [
    "print(\"Method Comparison\")\n",
    "print(\"=\" * 50)\n",
    "\n",
    "methods = {\n",
    "    'Document Combination': {'quality': 45, 'equation_preservation': 53.8, 'notes': 'Poor quality, significant content loss'},\n",
    "    'Original Augmentation': {'quality': 85.8, 'equation_preservation': 53.8, 'notes': 'Good quality, some equation loss'},\n",
    "    'Enhanced Augmentation': {'quality': 95.0, 'equation_preservation': 100.0, 'notes': 'Excellent quality, perfect preservation'}\n",
    "}\n",
    "\n",
    "print(f\"{'Method':<20} {'Quality':<10} {'Equations':<12} {'Notes':<30}\")\n",
    "print(\"-\" * 75)\n",
    "\n",
    "for method, metrics in methods.items():\n",
    "    print(f\"{method:<20} {metrics['quality']:<10.1f} {metrics['equation_preservation']:<12.1f} {metrics['notes']:<30}\")\n",
    "\n",
    "print(\"\\nRecommendations:\")\n",
    "print(\"  Use Enhanced Augmentation for best results\")\n",
    "print(\"  Start with processed documents as base\")\n",
    "print(\"  Check equation preservation in analysis\")\n",
    "print(\"  Avoid document combination method\")"
   ]
  },
  {
   "cell_type": "code",
   "execution_count": null,
   "metadata": {},
   "outputs": [],
   "source": []
  }
 ],
 "metadata": {
  "kernelspec": {
   "display_name": ".venv",
   "language": "python",
   "name": "python3"
  },
  "language_info": {
   "codemirror_mode": {
    "name": "ipython",
    "version": 3
   },
   "file_extension": ".py",
   "mimetype": "text/x-python",
   "name": "python",
   "nbconvert_exporter": "python",
   "pygments_lexer": "ipython3",
   "version": "3.12.11"
  }
 },
 "nbformat": 4,
 "nbformat_minor": 4
}
